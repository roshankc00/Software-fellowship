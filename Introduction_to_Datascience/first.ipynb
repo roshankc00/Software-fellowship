{
 "cells": [
  {
   "cell_type": "code",
   "execution_count": 1,
   "id": "c3834e6e",
   "metadata": {},
   "outputs": [],
   "source": [
    "# Data science \n",
    "\n",
    "# prerequisites\n",
    "# DSA\n",
    "# Version control System (git and github)\n",
    "# languages(Python/R)\n",
    "# Linux (Linux command)\n",
    "# Database(Sql Scripting)\n",
    "\n",
    "\n",
    "\n",
    "\n",
    "# Mathematics\n",
    "# --- Linear Algebra --->   vectors and Matrices \n",
    "# --- Calculus-->Limit derivative and integration\n",
    "# --Probabilit---> hypothesis and Testing\n",
    "# -- Statistics-->  Mean Median Mode and Std \n",
    "\n",
    "\n",
    "\n",
    "# Pipeline\n",
    "\n",
    "# BusinessUnderstading--> business objective Assess Situation  Data Mining Goals Project plan \n",
    "\n",
    "#   | |\n",
    "# Data understanding--> data collection, data description, Data Exploration, and Quality verification\n",
    "\n",
    "#    |\n",
    "# Data preparation--> Select Data, Clean Data,   Construct Data, Integrate Dat, Format Data\n",
    "#    ||\n",
    "# Modeling --> Algorithm selection(choo), Train Test Split,Model Training,Assess Model  \n",
    "#   |\n",
    "# Evaluation     \n",
    "# |\n",
    "# Deployment\n",
    "\n",
    "\n",
    "\n",
    "# Career\n",
    "\n",
    "\n",
    "\n",
    "# Data Mining--> collect useful data  from different Sources \n",
    "# Business Intelligence -- write queries to generate reports\n",
    "# Data Analyst--> Runs queries to find important trends\n",
    "# Data engineering--> Prepare data to fit to Ml Model\n",
    "# machine Learning-->Build AI models for the business \n",
    "# \n",
    "\n",
    "\n",
    "\n",
    "\n",
    "\n",
    "\n",
    "\n",
    "\n",
    "\n"
   ]
  },
  {
   "cell_type": "markdown",
   "id": "eb2e7aee",
   "metadata": {},
   "source": [
    "# numeric type \n"
   ]
  },
  {
   "cell_type": "code",
   "execution_count": null,
   "id": "57227e16",
   "metadata": {},
   "outputs": [],
   "source": []
  },
  {
   "cell_type": "code",
   "execution_count": null,
   "id": "1efc814e",
   "metadata": {},
   "outputs": [],
   "source": []
  },
  {
   "cell_type": "code",
   "execution_count": null,
   "id": "fdf40bcf",
   "metadata": {},
   "outputs": [],
   "source": []
  },
  {
   "cell_type": "code",
   "execution_count": null,
   "id": "92e672ab",
   "metadata": {},
   "outputs": [],
   "source": [
    "# int \n",
    "x=10"
   ]
  },
  {
   "cell_type": "code",
   "execution_count": 12,
   "id": "e803dbd0",
   "metadata": {},
   "outputs": [],
   "source": [
    "# float\n",
    "x=10.01"
   ]
  },
  {
   "cell_type": "code",
   "execution_count": 13,
   "id": "64b035ac",
   "metadata": {},
   "outputs": [
    {
     "name": "stdout",
     "output_type": "stream",
     "text": [
      "(3+4j)\n"
     ]
    }
   ],
   "source": [
    "# complex\n",
    "a=complex(2,3)\n",
    "z= 3+4j\n",
    "print(z)"
   ]
  },
  {
   "cell_type": "code",
   "execution_count": 16,
   "id": "1af65a94",
   "metadata": {
    "scrolled": true
   },
   "outputs": [
    {
     "data": {
      "text/plain": [
       "complex"
      ]
     },
     "execution_count": 16,
     "metadata": {},
     "output_type": "execute_result"
    }
   ],
   "source": [
    "type(z)"
   ]
  },
  {
   "cell_type": "markdown",
   "id": "1ba2a6e4",
   "metadata": {},
   "source": [
    "# string type "
   ]
  },
  {
   "cell_type": "code",
   "execution_count": 19,
   "id": "21418b00",
   "metadata": {},
   "outputs": [],
   "source": [
    "text=\"hello\"\n",
    "text1='wow'\n",
    "text2=\"'the best '\"\n"
   ]
  },
  {
   "cell_type": "code",
   "execution_count": 20,
   "id": "c2863fbc",
   "metadata": {},
   "outputs": [
    {
     "data": {
      "text/plain": [
       "'hello'"
      ]
     },
     "execution_count": 20,
     "metadata": {},
     "output_type": "execute_result"
    }
   ],
   "source": [
    "text.lower()"
   ]
  },
  {
   "cell_type": "code",
   "execution_count": null,
   "id": "62a03b95",
   "metadata": {},
   "outputs": [],
   "source": [
    "text.upper()\n",
    "text.split(',')  #convert into list\n",
    "text.strip()\n"
   ]
  },
  {
   "cell_type": "markdown",
   "id": "f64c6231",
   "metadata": {},
   "source": [
    "# sequence type\n",
    "\n"
   ]
  },
  {
   "cell_type": "markdown",
   "id": "8c70dccf",
   "metadata": {},
   "source": [
    "# list\n",
    "# tuple"
   ]
  },
  {
   "cell_type": "code",
   "execution_count": 21,
   "id": "4cfb5501",
   "metadata": {},
   "outputs": [],
   "source": [
    "list1=[1,2,3,\"roshan\",\"karki\"]"
   ]
  },
  {
   "cell_type": "code",
   "execution_count": 22,
   "id": "1eab3199",
   "metadata": {},
   "outputs": [
    {
     "data": {
      "text/plain": [
       "list"
      ]
     },
     "execution_count": 22,
     "metadata": {},
     "output_type": "execute_result"
    }
   ],
   "source": [
    "type(list1)"
   ]
  },
  {
   "cell_type": "code",
   "execution_count": 26,
   "id": "8ec7c115",
   "metadata": {},
   "outputs": [
    {
     "data": {
      "text/plain": [
       "(1, 'sbs')"
      ]
     },
     "execution_count": 26,
     "metadata": {},
     "output_type": "execute_result"
    }
   ],
   "source": [
    "tuple=(1,\"sbs\")\n",
    "tuple\n",
    "# cant insert too  strict like array in c and c++"
   ]
  },
  {
   "cell_type": "code",
   "execution_count": 33,
   "id": "03bb78f3",
   "metadata": {},
   "outputs": [
    {
     "data": {
      "text/plain": [
       "[1, 'roshan', 3, 'roshan', 'karki']"
      ]
     },
     "execution_count": 33,
     "metadata": {},
     "output_type": "execute_result"
    }
   ],
   "source": [
    "list1[0]\n",
    "list1[1]=\"roshan\"\n",
    "list1\n",
    "# tuple[1]=2 # throws error"
   ]
  },
  {
   "cell_type": "code",
   "execution_count": 45,
   "id": "b9c9fb1f",
   "metadata": {},
   "outputs": [
    {
     "data": {
      "text/plain": [
       "(3, 232, 3)"
      ]
     },
     "execution_count": 45,
     "metadata": {},
     "output_type": "execute_result"
    }
   ],
   "source": [
    "##------------------ set---------------\n",
    "set1={12,23,34,12}\n",
    "tuple23=(3,232,3)\n",
    "set1\n",
    "tuple23"
   ]
  },
  {
   "cell_type": "code",
   "execution_count": 46,
   "id": "fea2c517",
   "metadata": {},
   "outputs": [
    {
     "data": {
      "text/plain": [
       "{'name': 'Roshan karki', 'class': 23, 'email': 'rohitkc8848@gmail.com'}"
      ]
     },
     "execution_count": 46,
     "metadata": {},
     "output_type": "execute_result"
    }
   ],
   "source": [
    "## Dictionary--> fast fast and fast\n",
    "dict1={\n",
    "    \"name\":\"Roshan karki\",\n",
    "    \"class\":23,\n",
    "    \"email\":\"rohitkc8848@gmail.com\"\n",
    "      }\n",
    "dict1"
   ]
  },
  {
   "cell_type": "markdown",
   "id": "a05b3989",
   "metadata": {},
   "source": [
    "## =----------BOOlean-------------"
   ]
  },
  {
   "cell_type": "code",
   "execution_count": 48,
   "id": "c7676d4f",
   "metadata": {},
   "outputs": [
    {
     "data": {
      "text/plain": [
       "False"
      ]
     },
     "execution_count": 48,
     "metadata": {},
     "output_type": "execute_result"
    }
   ],
   "source": [
    "x=10\n",
    "x>12"
   ]
  },
  {
   "cell_type": "markdown",
   "id": "b0c6693a",
   "metadata": {},
   "source": [
    "# ----------Conditional statement----------"
   ]
  },
  {
   "cell_type": "code",
   "execution_count": 50,
   "id": "c9310b13",
   "metadata": {},
   "outputs": [
    {
     "name": "stdout",
     "output_type": "stream",
     "text": [
      "x is less than 11 \n"
     ]
    }
   ],
   "source": [
    "if x>11:\n",
    "    print(\"x is grater than the 11\")\n",
    "else:\n",
    "    print(\"x is less than 11 \")\n"
   ]
  },
  {
   "cell_type": "code",
   "execution_count": 51,
   "id": "30cb872a",
   "metadata": {},
   "outputs": [
    {
     "name": "stdout",
     "output_type": "stream",
     "text": [
      "x is negative\n"
     ]
    }
   ],
   "source": [
    "x=-12\n",
    "if x>0:\n",
    "    print(\"the number is positive\")\n",
    "elif x==0:\n",
    "    print(\"x is zero\")\n",
    "else:\n",
    "    print(\"x is negative\")"
   ]
  },
  {
   "cell_type": "markdown",
   "id": "9447cbff",
   "metadata": {},
   "source": [
    "# --------------loops-------\n"
   ]
  },
  {
   "cell_type": "code",
   "execution_count": 60,
   "id": "228431ea",
   "metadata": {},
   "outputs": [
    {
     "data": {
      "text/plain": [
       "[1, 4, 9, 16, 25, 36, 49, 64, 81]"
      ]
     },
     "execution_count": 60,
     "metadata": {},
     "output_type": "execute_result"
    }
   ],
   "source": [
    "new=[1,2,3,4,5,6,7,8,9]\n",
    "for i in range(len(new)):\n",
    "    new[i]=new[i]**2\n",
    "new\n",
    "\n"
   ]
  },
  {
   "cell_type": "code",
   "execution_count": 73,
   "id": "90837826",
   "metadata": {},
   "outputs": [
    {
     "name": "stdout",
     "output_type": "stream",
     "text": [
      "0\n",
      "1\n",
      "2\n",
      "3\n",
      "4\n"
     ]
    }
   ],
   "source": [
    "x=0\n",
    "while x<5:\n",
    "    print(x)\n",
    "    x=x+1\n",
    "    "
   ]
  },
  {
   "cell_type": "markdown",
   "id": "8554a1f5",
   "metadata": {},
   "source": [
    "# function \n"
   ]
  },
  {
   "cell_type": "code",
   "execution_count": 75,
   "id": "0fbde3f9",
   "metadata": {},
   "outputs": [
    {
     "data": {
      "text/plain": [
       "46"
      ]
     },
     "execution_count": 75,
     "metadata": {},
     "output_type": "execute_result"
    }
   ],
   "source": [
    "def fun1(a,b):\n",
    "    return a+b;\n",
    "fun1(23,23)"
   ]
  },
  {
   "cell_type": "code",
   "execution_count": 77,
   "id": "dba35f65",
   "metadata": {},
   "outputs": [
    {
     "data": {
      "text/plain": [
       "4"
      ]
     },
     "execution_count": 77,
     "metadata": {},
     "output_type": "execute_result"
    }
   ],
   "source": [
    "# default parameter\n",
    "def fun(a=2):\n",
    "    return a**2\n",
    "fun()"
   ]
  },
  {
   "cell_type": "code",
   "execution_count": 80,
   "id": "6af56f1f",
   "metadata": {},
   "outputs": [
    {
     "name": "stdout",
     "output_type": "stream",
     "text": [
      "negative\n"
     ]
    }
   ],
   "source": [
    "def check(a):\n",
    "    if a>0:\n",
    "        print(\"this is positive number\")\n",
    "    elif a==0:\n",
    "        print(\"this is zero\")\n",
    "    else:\n",
    "        print(\"this is negative number\")\n",
    "check(-34)\n",
    "    "
   ]
  },
  {
   "cell_type": "markdown",
   "id": "1e50d4c6",
   "metadata": {},
   "source": [
    "# Object oriented programming "
   ]
  },
  {
   "cell_type": "code",
   "execution_count": null,
   "id": "c3bd5a3b",
   "metadata": {},
   "outputs": [],
   "source": [
    "class addme:\n",
    "    def __init__(self,a,b,c):\n",
    "        self.a=a;\n",
    "        self.b=b\n",
    "        self.c=c\n",
    "    def addThreeNumber(self):\n",
    "        return self.a+self.b+self.c\n",
    "\n",
    "add1=addme(223,12,23)\n",
    "c=add1.addThreeNumber()\n",
    "c\n"
   ]
  },
  {
   "cell_type": "code",
   "execution_count": null,
   "id": "3c986ada",
   "metadata": {},
   "outputs": [],
   "source": []
  },
  {
   "cell_type": "code",
   "execution_count": null,
   "id": "2597dd09",
   "metadata": {},
   "outputs": [],
   "source": []
  },
  {
   "cell_type": "code",
   "execution_count": null,
   "id": "8afbf3a7",
   "metadata": {},
   "outputs": [],
   "source": []
  },
  {
   "cell_type": "code",
   "execution_count": null,
   "id": "6bb16727",
   "metadata": {},
   "outputs": [],
   "source": []
  },
  {
   "cell_type": "code",
   "execution_count": null,
   "id": "1a65a064",
   "metadata": {},
   "outputs": [],
   "source": []
  },
  {
   "cell_type": "code",
   "execution_count": null,
   "id": "abc3b1e2",
   "metadata": {},
   "outputs": [],
   "source": []
  },
  {
   "cell_type": "code",
   "execution_count": null,
   "id": "500d6ccc",
   "metadata": {},
   "outputs": [],
   "source": []
  },
  {
   "cell_type": "code",
   "execution_count": null,
   "id": "3adc5aae",
   "metadata": {},
   "outputs": [],
   "source": []
  },
  {
   "cell_type": "code",
   "execution_count": null,
   "id": "01c366ee",
   "metadata": {},
   "outputs": [],
   "source": []
  },
  {
   "cell_type": "code",
   "execution_count": null,
   "id": "944dd7d7",
   "metadata": {},
   "outputs": [],
   "source": []
  },
  {
   "cell_type": "code",
   "execution_count": null,
   "id": "c969a195",
   "metadata": {},
   "outputs": [],
   "source": []
  },
  {
   "cell_type": "code",
   "execution_count": null,
   "id": "eeb17452",
   "metadata": {},
   "outputs": [],
   "source": []
  },
  {
   "cell_type": "code",
   "execution_count": null,
   "id": "21c45b46",
   "metadata": {},
   "outputs": [],
   "source": []
  }
 ],
 "metadata": {
  "kernelspec": {
   "display_name": "Python 3 (ipykernel)",
   "language": "python",
   "name": "python3"
  },
  "language_info": {
   "codemirror_mode": {
    "name": "ipython",
    "version": 3
   },
   "file_extension": ".py",
   "mimetype": "text/x-python",
   "name": "python",
   "nbconvert_exporter": "python",
   "pygments_lexer": "ipython3",
   "version": "3.11.4"
  }
 },
 "nbformat": 4,
 "nbformat_minor": 5
}
