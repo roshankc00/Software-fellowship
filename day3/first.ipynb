{
 "cells": [
  {
   "cell_type": "code",
   "execution_count": 1,
   "id": "fbc45ea2",
   "metadata": {},
   "outputs": [
    {
     "name": "stdout",
     "output_type": "stream",
     "text": [
      "hello world\n"
     ]
    }
   ],
   "source": [
    "print(\"hello world\")"
   ]
  },
  {
   "cell_type": "code",
   "execution_count": 2,
   "id": "f3323165",
   "metadata": {},
   "outputs": [
    {
     "name": "stdout",
     "output_type": "stream",
     "text": [
      "my name is roshan karki\n"
     ]
    }
   ],
   "source": [
    "print(\"my name is roshan karki\")"
   ]
  },
  {
   "cell_type": "code",
   "execution_count": 27,
   "id": "a286231c",
   "metadata": {},
   "outputs": [
    {
     "name": "stdout",
     "output_type": "stream",
     "text": [
      "1267367850\n"
     ]
    }
   ],
   "source": [
    "a=[23,5,3,7,45,34,343]\n",
    "b=1\n",
    "for i in a:\n",
    "    b*=i\n",
    "print(b)"
   ]
  },
  {
   "cell_type": "code",
   "execution_count": 18,
   "id": "db9fa568",
   "metadata": {},
   "outputs": [
    {
     "name": "stdout",
     "output_type": "stream",
     "text": [
      "[0, 2, 4, 6, 8, 10]\n"
     ]
    }
   ],
   "source": [
    "primes= [i for i in range (0,11) if i%2==0]\n",
    "print(primes)"
   ]
  },
  {
   "cell_type": "code",
   "execution_count": null,
   "id": "dcb79815",
   "metadata": {},
   "outputs": [],
   "source": [
    "squares= [i*i for i in range (0,11)]\n",
    "print(squares)"
   ]
  },
  {
   "cell_type": "code",
   "execution_count": 33,
   "id": "2f651ba9",
   "metadata": {},
   "outputs": [
    {
     "data": {
      "text/plain": [
       "34342"
      ]
     },
     "execution_count": 33,
     "metadata": {},
     "output_type": "execute_result"
    }
   ],
   "source": [
    "name_phone ={\n",
    "    'ram':2323,\n",
    "    \"roshan\":2345,\n",
    "    \"ashim\":3434,\n",
    "}\n",
    "name_phone['''ram''']\n",
    "# this is how we acess the value of the dictionary\n",
    "\n",
    "\n"
   ]
  },
  {
   "cell_type": "code",
   "execution_count": 31,
   "id": "8282cd2a",
   "metadata": {},
   "outputs": [
    {
     "name": "stdout",
     "output_type": "stream",
     "text": [
      "{322: 1, 45: 2, 76: 1, 3: 1, 67: 1, 89: 1, 78: 1}\n"
     ]
    }
   ],
   "source": [
    "d=[322,45,76,3,67,89, 78, 45]\n",
    "dis={}\n",
    "for i in d:\n",
    "    if i not in dis:\n",
    "        dis[i] = 1\n",
    "    else:\n",
    "        dis[i] += 1\n",
    "        \n",
    "print(dis)\n",
    "dis.items\n",
    "        "
   ]
  },
  {
   "cell_type": "code",
   "execution_count": null,
   "id": "859428e2",
   "metadata": {},
   "outputs": [],
   "source": [
    "#     clear() copy "
   ]
  },
  {
   "cell_type": "code",
   "execution_count": null,
   "id": "ecb0a245",
   "metadata": {},
   "outputs": [],
   "source": []
  },
  {
   "cell_type": "code",
   "execution_count": null,
   "id": "b5c6118a",
   "metadata": {},
   "outputs": [],
   "source": []
  },
  {
   "cell_type": "code",
   "execution_count": null,
   "id": "de95b539",
   "metadata": {},
   "outputs": [],
   "source": []
  },
  {
   "cell_type": "code",
   "execution_count": null,
   "id": "3c0df5fd",
   "metadata": {},
   "outputs": [],
   "source": []
  }
 ],
 "metadata": {
  "kernelspec": {
   "display_name": "Python 3 (ipykernel)",
   "language": "python",
   "name": "python3"
  },
  "language_info": {
   "codemirror_mode": {
    "name": "ipython",
    "version": 3
   },
   "file_extension": ".py",
   "mimetype": "text/x-python",
   "name": "python",
   "nbconvert_exporter": "python",
   "pygments_lexer": "ipython3",
   "version": "3.11.4"
  }
 },
 "nbformat": 4,
 "nbformat_minor": 5
}
