{
 "cells": [
  {
   "cell_type": "code",
   "execution_count": 1,
   "id": "c3834e6e",
   "metadata": {},
   "outputs": [],
   "source": [
    "# Data science \n",
    "\n",
    "# prerequisites\n",
    "# DSA\n",
    "# Version control System (git and github)\n",
    "# languages(Python/R)\n",
    "# Linux (Linux command)\n",
    "# Database(Sql Scripting)\n",
    "\n",
    "\n",
    "\n",
    "\n",
    "# Mathematics\n",
    "# --- Linear Algebra --->   vectors and Matrices \n",
    "# --- Calculus-->Limit derivative and integration\n",
    "# --Probabilit---> hypothesis and Testing\n",
    "# -- Statistics-->  Mean Median Mode and Std \n",
    "\n",
    "\n",
    "\n",
    "# Pipeline\n",
    "\n",
    "# BusinessUnderstading--> business objective Assess Situation  Data Mining Goals Project plan \n",
    "\n",
    "#   | |\n",
    "# Data understanding--> data collection, data description, Data Exploration, and Quality verification\n",
    "\n",
    "#    |\n",
    "# Data preparation--> Select Data, Clean Data,   Construct Data, Integrate Dat, Format Data\n",
    "#    ||\n",
    "# Modeling --> Algorithm selection(choo), Train Test Split,Model Training,Assess Model  \n",
    "#   |\n",
    "# Evaluation     \n",
    "# |\n",
    "# Deployment\n",
    "\n",
    "\n",
    "\n",
    "# Career\n",
    "\n",
    "\n",
    "\n",
    "# Data Mining--> collect useful data  from different Sources \n",
    "# Business Intelligence -- write queries to generate reports\n",
    "# Data Analyst--> Runs queries to find important trends\n",
    "# Data engineering--> Prepare data to fit to Ml Model\n",
    "# machine Learning-->Build AI models for the business \n",
    "# \n",
    "\n",
    "\n",
    "\n",
    "\n",
    "\n",
    "\n",
    "\n",
    "\n",
    "\n"
   ]
  },
  {
   "cell_type": "markdown",
   "id": "174a72da",
   "metadata": {},
   "source": [
    "# numeric type \n"
   ]
  },
  {
   "cell_type": "code",
   "execution_count": null,
   "id": "c0b802cf",
   "metadata": {},
   "outputs": [],
   "source": []
  },
  {
   "cell_type": "code",
   "execution_count": null,
   "id": "2b45d46f",
   "metadata": {},
   "outputs": [],
   "source": []
  },
  {
   "cell_type": "code",
   "execution_count": null,
   "id": "444824f7",
   "metadata": {},
   "outputs": [],
   "source": []
  },
  {
   "cell_type": "code",
   "execution_count": null,
   "id": "60163caf",
   "metadata": {},
   "outputs": [],
   "source": [
    "# int \n",
    "x=10"
   ]
  },
  {
   "cell_type": "code",
   "execution_count": 12,
   "id": "491c46c8",
   "metadata": {},
   "outputs": [],
   "source": [
    "# float\n",
    "x=10.01"
   ]
  },
  {
   "cell_type": "code",
   "execution_count": 13,
   "id": "bf952e00",
   "metadata": {},
   "outputs": [
    {
     "name": "stdout",
     "output_type": "stream",
     "text": [
      "(3+4j)\n"
     ]
    }
   ],
   "source": [
    "# complex\n",
    "a=complex(2,3)\n",
    "z= 3+4j\n",
    "print(z)"
   ]
  },
  {
   "cell_type": "code",
   "execution_count": 16,
   "id": "835c1ca0",
   "metadata": {
    "scrolled": true
   },
   "outputs": [
    {
     "data": {
      "text/plain": [
       "complex"
      ]
     },
     "execution_count": 16,
     "metadata": {},
     "output_type": "execute_result"
    }
   ],
   "source": [
    "type(z)"
   ]
  },
  {
   "cell_type": "markdown",
   "id": "18b0ad78",
   "metadata": {},
   "source": [
    "# string type "
   ]
  },
  {
   "cell_type": "code",
   "execution_count": 19,
   "id": "67f4e517",
   "metadata": {},
   "outputs": [],
   "source": [
    "text=\"hello\"\n",
    "text1='wow'\n",
    "text2=\"'the best '\"\n"
   ]
  },
  {
   "cell_type": "code",
   "execution_count": 20,
   "id": "adecf305",
   "metadata": {},
   "outputs": [
    {
     "data": {
      "text/plain": [
       "'hello'"
      ]
     },
     "execution_count": 20,
     "metadata": {},
     "output_type": "execute_result"
    }
   ],
   "source": [
    "text.lower()"
   ]
  },
  {
   "cell_type": "code",
   "execution_count": null,
   "id": "f6e55e9a",
   "metadata": {},
   "outputs": [],
   "source": [
    "text.upper()\n",
    "text.split(',')  #convert into list\n",
    "text.strip()\n"
   ]
  },
  {
   "cell_type": "markdown",
   "id": "467cf2d7",
   "metadata": {},
   "source": [
    "# sequence type\n",
    "\n"
   ]
  },
  {
   "cell_type": "markdown",
   "id": "ca26dc59",
   "metadata": {},
   "source": [
    "# list\n",
    "# tuple"
   ]
  },
  {
   "cell_type": "code",
   "execution_count": 21,
   "id": "9124d075",
   "metadata": {},
   "outputs": [],
   "source": [
    "list1=[1,2,3,\"roshan\",\"karki\"]"
   ]
  },
  {
   "cell_type": "code",
   "execution_count": 22,
   "id": "98a6d789",
   "metadata": {},
   "outputs": [
    {
     "data": {
      "text/plain": [
       "list"
      ]
     },
     "execution_count": 22,
     "metadata": {},
     "output_type": "execute_result"
    }
   ],
   "source": [
    "type(list1)"
   ]
  },
  {
   "cell_type": "code",
   "execution_count": 26,
   "id": "b76505a2",
   "metadata": {},
   "outputs": [
    {
     "data": {
      "text/plain": [
       "(1, 'sbs')"
      ]
     },
     "execution_count": 26,
     "metadata": {},
     "output_type": "execute_result"
    }
   ],
   "source": [
    "tuple=(1,\"sbs\")\n",
    "tuple\n",
    "# cant insert too  strict like array in c and c++"
   ]
  },
  {
   "cell_type": "code",
   "execution_count": 33,
   "id": "64d8bcd7",
   "metadata": {},
   "outputs": [
    {
     "data": {
      "text/plain": [
       "[1, 'roshan', 3, 'roshan', 'karki']"
      ]
     },
     "execution_count": 33,
     "metadata": {},
     "output_type": "execute_result"
    }
   ],
   "source": [
    "list1[0]\n",
    "list1[1]=\"roshan\"\n",
    "list1\n",
    "# tuple[1]=2 # throws error"
   ]
  },
  {
   "cell_type": "code",
   "execution_count": 45,
   "id": "819cc477",
   "metadata": {},
   "outputs": [
    {
     "data": {
      "text/plain": [
       "(3, 232, 3)"
      ]
     },
     "execution_count": 45,
     "metadata": {},
     "output_type": "execute_result"
    }
   ],
   "source": [
    "##------------------ set---------------\n",
    "set1={12,23,34,12}\n",
    "tuple23=(3,232,3)\n",
    "set1\n",
    "tuple23"
   ]
  },
  {
   "cell_type": "code",
   "execution_count": 46,
   "id": "8c0f8a9a",
   "metadata": {},
   "outputs": [
    {
     "data": {
      "text/plain": [
       "{'name': 'Roshan karki', 'class': 23, 'email': 'rohitkc8848@gmail.com'}"
      ]
     },
     "execution_count": 46,
     "metadata": {},
     "output_type": "execute_result"
    }
   ],
   "source": [
    "## Dictionary--> fast fast and fast\n",
    "dict1={\n",
    "    \"name\":\"Roshan karki\",\n",
    "    \"class\":23,\n",
    "    \"email\":\"rohitkc8848@gmail.com\"\n",
    "      }\n",
    "dict1"
   ]
  },
  {
   "cell_type": "markdown",
   "id": "635aee3e",
   "metadata": {},
   "source": [
    "## =----------BOOlean-------------"
   ]
  },
  {
   "cell_type": "code",
   "execution_count": 48,
   "id": "9f5d95ee",
   "metadata": {},
   "outputs": [
    {
     "data": {
      "text/plain": [
       "False"
      ]
     },
     "execution_count": 48,
     "metadata": {},
     "output_type": "execute_result"
    }
   ],
   "source": [
    "x=10\n",
    "x>12"
   ]
  },
  {
   "cell_type": "markdown",
   "id": "df584fd9",
   "metadata": {},
   "source": [
    "# ----------Conditional statement----------"
   ]
  },
  {
   "cell_type": "code",
   "execution_count": 50,
   "id": "986e12f5",
   "metadata": {},
   "outputs": [
    {
     "name": "stdout",
     "output_type": "stream",
     "text": [
      "x is less than 11 \n"
     ]
    }
   ],
   "source": [
    "if x>11:\n",
    "    print(\"x is grater than the 11\")\n",
    "else:\n",
    "    print(\"x is less than 11 \")\n"
   ]
  },
  {
   "cell_type": "code",
   "execution_count": 51,
   "id": "af08bd15",
   "metadata": {},
   "outputs": [
    {
     "name": "stdout",
     "output_type": "stream",
     "text": [
      "x is negative\n"
     ]
    }
   ],
   "source": [
    "x=-12\n",
    "if x>0:\n",
    "    print(\"the number is positive\")\n",
    "elif x==0:\n",
    "    print(\"x is zero\")\n",
    "else:\n",
    "    print(\"x is negative\")"
   ]
  },
  {
   "cell_type": "markdown",
   "id": "5d3c921e",
   "metadata": {},
   "source": [
    "# --------------loops-------\n"
   ]
  },
  {
   "cell_type": "code",
   "execution_count": 60,
   "id": "74225804",
   "metadata": {},
   "outputs": [
    {
     "data": {
      "text/plain": [
       "[1, 4, 9, 16, 25, 36, 49, 64, 81]"
      ]
     },
     "execution_count": 60,
     "metadata": {},
     "output_type": "execute_result"
    }
   ],
   "source": [
    "new=[1,2,3,4,5,6,7,8,9]\n",
    "for i in range(len(new)):\n",
    "    new[i]=new[i]**2\n",
    "new\n",
    "\n"
   ]
  },
  {
   "cell_type": "code",
   "execution_count": 73,
   "id": "25ccb60a",
   "metadata": {},
   "outputs": [
    {
     "name": "stdout",
     "output_type": "stream",
     "text": [
      "0\n",
      "1\n",
      "2\n",
      "3\n",
      "4\n"
     ]
    }
   ],
   "source": [
    "x=0\n",
    "while x<5:\n",
    "    print(x)\n",
    "    x=x+1\n",
    "    "
   ]
  },
  {
   "cell_type": "markdown",
   "id": "b8899ba3",
   "metadata": {},
   "source": [
    "# function \n"
   ]
  },
  {
   "cell_type": "code",
   "execution_count": 75,
   "id": "d289477c",
   "metadata": {},
   "outputs": [
    {
     "data": {
      "text/plain": [
       "46"
      ]
     },
     "execution_count": 75,
     "metadata": {},
     "output_type": "execute_result"
    }
   ],
   "source": [
    "def fun1(a,b):\n",
    "    return a+b;\n",
    "fun1(23,23)"
   ]
  },
  {
   "cell_type": "code",
   "execution_count": 77,
   "id": "22feb7d1",
   "metadata": {},
   "outputs": [
    {
     "data": {
      "text/plain": [
       "4"
      ]
     },
     "execution_count": 77,
     "metadata": {},
     "output_type": "execute_result"
    }
   ],
   "source": [
    "# default parameter\n",
    "def fun(a=2):\n",
    "    return a**2\n",
    "fun()"
   ]
  },
  {
   "cell_type": "code",
   "execution_count": 80,
   "id": "1bcad8e6",
   "metadata": {},
   "outputs": [
    {
     "name": "stdout",
     "output_type": "stream",
     "text": [
      "negative\n"
     ]
    }
   ],
   "source": [
    "def check(a):\n",
    "    if a>0:\n",
    "        print(\"this is positive number\")\n",
    "    elif a==0:\n",
    "        print(\"this is zero\")\n",
    "    else:\n",
    "        print(\"this is negative number\")\n",
    "check(-34)\n",
    "    "
   ]
  },
  {
   "cell_type": "code",
   "execution_count": 82,
   "id": "5498cdfa",
   "metadata": {},
   "outputs": [
    {
     "ename": "SyntaxError",
     "evalue": "invalid syntax (3790524695.py, line 8)",
     "output_type": "error",
     "traceback": [
      "\u001b[1;36m  Cell \u001b[1;32mIn[82], line 8\u001b[1;36m\u001b[0m\n\u001b[1;33m    addme num;\u001b[0m\n\u001b[1;37m          ^\u001b[0m\n\u001b[1;31mSyntaxError\u001b[0m\u001b[1;31m:\u001b[0m invalid syntax\n"
     ]
    }
   ],
   "source": [
    "class addme:\n",
    "    def __init__(self,a,b,c):\n",
    "        self.a=a;\n",
    "        self.b=b\n",
    "        self.c=c\n",
    "    def addTwoNumber(self):\n",
    "        return self.a+self.b+self.c\n",
    "\n"
   ]
  },
  {
   "cell_type": "code",
   "execution_count": null,
   "id": "46684753",
   "metadata": {},
   "outputs": [],
   "source": []
  },
  {
   "cell_type": "code",
   "execution_count": null,
   "id": "80ff9b9c",
   "metadata": {},
   "outputs": [],
   "source": []
  },
  {
   "cell_type": "code",
   "execution_count": null,
   "id": "0bb3f67d",
   "metadata": {},
   "outputs": [],
   "source": []
  },
  {
   "cell_type": "code",
   "execution_count": null,
   "id": "3e082097",
   "metadata": {},
   "outputs": [],
   "source": []
  },
  {
   "cell_type": "code",
   "execution_count": null,
   "id": "bf9c2804",
   "metadata": {},
   "outputs": [],
   "source": []
  },
  {
   "cell_type": "code",
   "execution_count": null,
   "id": "f0708c5a",
   "metadata": {},
   "outputs": [],
   "source": []
  },
  {
   "cell_type": "code",
   "execution_count": null,
   "id": "e1e1c679",
   "metadata": {},
   "outputs": [],
   "source": []
  },
  {
   "cell_type": "code",
   "execution_count": null,
   "id": "536d36b9",
   "metadata": {},
   "outputs": [],
   "source": []
  },
  {
   "cell_type": "code",
   "execution_count": null,
   "id": "ceed7e54",
   "metadata": {},
   "outputs": [],
   "source": []
  },
  {
   "cell_type": "code",
   "execution_count": null,
   "id": "50dd6f53",
   "metadata": {},
   "outputs": [],
   "source": []
  },
  {
   "cell_type": "code",
   "execution_count": null,
   "id": "24a354e6",
   "metadata": {},
   "outputs": [],
   "source": []
  },
  {
   "cell_type": "code",
   "execution_count": null,
   "id": "a0c4b1cd",
   "metadata": {},
   "outputs": [],
   "source": []
  },
  {
   "cell_type": "code",
   "execution_count": null,
   "id": "17be4e0b",
   "metadata": {},
   "outputs": [],
   "source": []
  },
  {
   "cell_type": "code",
   "execution_count": null,
   "id": "05a52743",
   "metadata": {},
   "outputs": [],
   "source": []
  }
 ],
 "metadata": {
  "kernelspec": {
   "display_name": "Python 3 (ipykernel)",
   "language": "python",
   "name": "python3"
  },
  "language_info": {
   "codemirror_mode": {
    "name": "ipython",
    "version": 3
   },
   "file_extension": ".py",
   "mimetype": "text/x-python",
   "name": "python",
   "nbconvert_exporter": "python",
   "pygments_lexer": "ipython3",
   "version": "3.11.4"
  }
 },
 "nbformat": 4,
 "nbformat_minor": 5
}
