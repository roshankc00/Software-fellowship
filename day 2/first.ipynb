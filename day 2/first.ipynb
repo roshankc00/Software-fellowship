{
 "cells": [
  {
   "cell_type": "code",
   "execution_count": 27,
   "id": "47572b7c",
   "metadata": {},
   "outputs": [
    {
     "name": "stdout",
     "output_type": "stream",
     "text": [
      "roshan karki\n",
      "the sum of the numbers is  62\n"
     ]
    }
   ],
   "source": [
    "def sum(x,y=28):\n",
    "    return x+y\n",
    "\n",
    "\n",
    "def func(*words):\n",
    "    for i in words:\n",
    "        print (i)\n",
    "\n",
    "        \n",
    "func(\"roshan karki\")\n",
    "\n",
    "print(\"the sum of the numbers is \",sum(34))\n"
   ]
  },
  {
   "cell_type": "code",
   "execution_count": 35,
   "id": "e2f6b421",
   "metadata": {},
   "outputs": [
    {
     "name": "stdout",
     "output_type": "stream",
     "text": [
      "the value is -21\n"
     ]
    }
   ],
   "source": [
    "def outer_func(func):\n",
    "    def inner_func(a,b):\n",
    "        print(\"the value is\",func(a,b))\n",
    "    return inner_func\n",
    "\n",
    "\n",
    "@outer_func\n",
    "def sub(a,b):\n",
    "    return a-b\n",
    "\n",
    "sub(12,33)"
   ]
  },
  {
   "cell_type": "code",
   "execution_count": 41,
   "id": "b3dca9c8",
   "metadata": {},
   "outputs": [
    {
     "name": "stdout",
     "output_type": "stream",
     "text": [
      "the value is -11\n"
     ]
    }
   ],
   "source": [
    "# class vs object oriented  programming \n",
    "# procedure--> c pascal:: pascal: program is a series of instructions \n",
    "# object oriented ==> c++ java  :: program is an interaction between ojects \n",
    "# functional ==> Lisp Haskell  \n",
    "\n",
    "\n",
    "\n",
    "def sum1(*args):\n",
    "    return sub(*args)\n",
    "sum1(23,34)\n",
    "\n"
   ]
  },
  {
   "cell_type": "code",
   "execution_count": 43,
   "id": "675ad69a",
   "metadata": {},
   "outputs": [
    {
     "name": "stdout",
     "output_type": "stream",
     "text": [
      "Roshan\n",
      "Roshan\n"
     ]
    }
   ],
   "source": [
    " class Person:\n",
    "        def __init__(self,fname,lname,age):\n",
    "            self.first_name= fname\n",
    "            self.last_name=lname\n",
    "            self.age=age\n",
    "        def fullname(self):\n",
    "            print(self.first_name)\n",
    "            \n",
    "            \n",
    "            \n",
    "            \n",
    "Roshan = Person(\"Roshan\",\"Karki\",34)\n",
    "Roshan.fullname()\n",
    "Person.fullname(Roshan)"
   ]
  },
  {
   "cell_type": "code",
   "execution_count": 48,
   "id": "91da5936",
   "metadata": {},
   "outputs": [
    {
     "name": "stdout",
     "output_type": "stream",
     "text": [
      "26\n"
     ]
    }
   ],
   "source": [
    "class Shape:\n",
    "    def __init__(self,x,y):\n",
    "        self.x=x\n",
    "        self.y=y\n",
    "    def add(self):\n",
    "        return self.x+self.y\n",
    "    \n",
    "math=Shape(3,23)\n",
    "a=math.add()\n",
    "print(a)"
   ]
  },
  {
   "cell_type": "code",
   "execution_count": 52,
   "id": "56ddc704",
   "metadata": {},
   "outputs": [
    {
     "data": {
      "text/plain": [
       "'46 + 46j'"
      ]
     },
     "execution_count": 52,
     "metadata": {},
     "output_type": "execute_result"
    }
   ],
   "source": [
    "class Complex:\n",
    "    def __init__(self,x,y):\n",
    "        self.x=x\n",
    "        self.y=y\n",
    "    def show(self):\n",
    "        return f'{self.x} + {self.y}j'\n",
    "    def add(self,a):\n",
    "        return Complex(self.x+a.x,self.y+a.y)\n",
    "a1=Complex(12,23)\n",
    "a2=Complex(34,23)\n",
    "b=a1.add(a2)\n",
    "b.show()\n",
    "\n"
   ]
  },
  {
   "cell_type": "code",
   "execution_count": 53,
   "id": "7dba94b6",
   "metadata": {},
   "outputs": [
    {
     "data": {
      "text/plain": [
       "'46 + 46j'"
      ]
     },
     "execution_count": 53,
     "metadata": {},
     "output_type": "execute_result"
    }
   ],
   "source": [
    "# dundeer method \n",
    "class Complex:\n",
    "    def __init__(self,x,y):\n",
    "        self.x=x\n",
    "        self.y=y\n",
    "    def show(self):\n",
    "        return f'{self.x} + {self.y}j'\n",
    "    def __add__(self,a):\n",
    "        return Complex(self.x+a.x,self.y+a.y)\n",
    "a1=Complex(12,23)\n",
    "a2=Complex(34,23)\n",
    "b=a1 + a2\n",
    "b.show()\n",
    "\n"
   ]
  },
  {
   "cell_type": "code",
   "execution_count": 64,
   "id": "1cd570a1",
   "metadata": {},
   "outputs": [
    {
     "data": {
      "text/plain": [
       "9"
      ]
     },
     "execution_count": 64,
     "metadata": {},
     "output_type": "execute_result"
    }
   ],
   "source": [
    "class Shape:\n",
    "    def __init__(self,x,y):\n",
    "        self.x=x\n",
    "        self.y=y\n",
    "    def area(self):\n",
    "        return self.x*self.y\n",
    "    \n",
    "\n",
    "class Square(Shape):\n",
    "    def __init__(self,x):\n",
    "#         Shape.__init__(self,x,x)\n",
    "#         super.__init__(x,x)\n",
    "\n",
    "sq=Square(3)\n",
    "sq.area()"
   ]
  },
  {
   "cell_type": "code",
   "execution_count": null,
   "id": "baa6be03",
   "metadata": {},
   "outputs": [],
   "source": []
  },
  {
   "cell_type": "code",
   "execution_count": null,
   "id": "d1d17284",
   "metadata": {},
   "outputs": [],
   "source": []
  }
 ],
 "metadata": {
  "kernelspec": {
   "display_name": "Python 3 (ipykernel)",
   "language": "python",
   "name": "python3"
  },
  "language_info": {
   "codemirror_mode": {
    "name": "ipython",
    "version": 3
   },
   "file_extension": ".py",
   "mimetype": "text/x-python",
   "name": "python",
   "nbconvert_exporter": "python",
   "pygments_lexer": "ipython3",
   "version": "3.11.4"
  }
 },
 "nbformat": 4,
 "nbformat_minor": 5
}
