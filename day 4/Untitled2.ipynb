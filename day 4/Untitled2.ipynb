{
 "cells": [
  {
   "cell_type": "code",
   "execution_count": 12,
   "id": "851425c1",
   "metadata": {},
   "outputs": [],
   "source": [
    "def fab(n):\n",
    "    if(n==1 or n==2):\n",
    "        return 1;\n",
    "    val= fab(n-1) + fab(n-2)  \n",
    "    print(val)\n",
    "    return val\n",
    "    \n",
    "# %%timeit -n 1\n"
   ]
  },
  {
   "cell_type": "code",
   "execution_count": null,
   "id": "7f89a353",
   "metadata": {},
   "outputs": [],
   "source": []
  },
  {
   "cell_type": "code",
   "execution_count": null,
   "id": "96fea1ac",
   "metadata": {},
   "outputs": [],
   "source": []
  },
  {
   "cell_type": "code",
   "execution_count": null,
   "id": "8173fbc7",
   "metadata": {},
   "outputs": [],
   "source": []
  }
 ],
 "metadata": {
  "kernelspec": {
   "display_name": "Python 3 (ipykernel)",
   "language": "python",
   "name": "python3"
  },
  "language_info": {
   "codemirror_mode": {
    "name": "ipython",
    "version": 3
   },
   "file_extension": ".py",
   "mimetype": "text/x-python",
   "name": "python",
   "nbconvert_exporter": "python",
   "pygments_lexer": "ipython3",
   "version": "3.11.4"
  }
 },
 "nbformat": 4,
 "nbformat_minor": 5
}
